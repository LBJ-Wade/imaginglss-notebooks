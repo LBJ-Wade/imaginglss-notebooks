{
 "cells": [
  {
   "cell_type": "code",
   "execution_count": 1,
   "metadata": {
    "collapsed": false
   },
   "outputs": [
    {
     "name": "stdout",
     "output_type": "stream",
     "text": [
      "Populating the interactive namespace from numpy and matplotlib\n"
     ]
    }
   ],
   "source": [
    "%pylab inline"
   ]
  },
  {
   "cell_type": "code",
   "execution_count": 2,
   "metadata": {
    "collapsed": true
   },
   "outputs": [],
   "source": [
    "from pandas import read_csv"
   ]
  },
  {
   "cell_type": "code",
   "execution_count": 3,
   "metadata": {
    "collapsed": true
   },
   "outputs": [],
   "source": [
    "from kdcount import correlate"
   ]
  },
  {
   "cell_type": "code",
   "execution_count": 4,
   "metadata": {
    "collapsed": true
   },
   "outputs": [],
   "source": [
    "from kdcount import sphere"
   ]
  },
  {
   "cell_type": "code",
   "execution_count": 5,
   "metadata": {
    "collapsed": false
   },
   "outputs": [],
   "source": [
    "gal_flux = read_csv(\n",
    "    '/global/homes/y/yfeng1/m779/imaginglss/object_cats/ELG/ELG.txt.FLUXES', \n",
    "    delim_whitespace=True, comment='#', header=None).as_matrix()\n",
    "gal_noise = read_csv('/global/homes/y/yfeng1/m779/imaginglss/object_cats/ELG/ELG.txt.NOISES', \n",
    "    delim_whitespace=True, comment='#', header=None).as_matrix()\n",
    "gal_conf = gal_flux[:, 4:] / gal_noise[:, 3:]\n",
    "gas_fc = read_csv('/global/homes/y/yfeng1/m779/imaginglss/object_cats/ELG/ELG.txt.FC', \n",
    "    delim_whitespace=True, comment='#', header=None).as_matrix()"
   ]
  },
  {
   "cell_type": "code",
   "execution_count": 7,
   "metadata": {
    "collapsed": false
   },
   "outputs": [],
   "source": [
    "ran = read_csv('/global/homes/y/yfeng1/m779/imaginglss/random_cats/ELG/ELG_rand.txt.NOISES', \n",
    "    delim_whitespace=True, comment='#').as_matrix()"
   ]
  },
  {
   "cell_type": "code",
   "execution_count": 11,
   "metadata": {
    "collapsed": true
   },
   "outputs": [],
   "source": [
    "ran_fc = read_csv('/global/homes/y/yfeng1/m779/imaginglss/random_cats/ELG/ELG_rand.txt.FC', \n",
    "    delim_whitespace=True, comment='#').as_matrix()"
   ]
  },
  {
   "cell_type": "code",
   "execution_count": 12,
   "metadata": {
    "collapsed": false
   },
   "outputs": [
    {
     "name": "stdout",
     "output_type": "stream",
     "text": [
      "[ 0.00696351  0.00996285  0.01425408  0.02039364  0.02917765  0.04174514\n",
      "  0.05972573  0.08545098  0.12225669]\n"
     ]
    }
   ],
   "source": [
    "abin = sphere.AngularBinning(logspace(-4, -2.6, 10))\n",
    "print abin.angular_centers"
   ]
  },
  {
   "cell_type": "code",
   "execution_count": 19,
   "metadata": {
    "collapsed": true
   },
   "outputs": [],
   "source": [
    "mask = (gal_conf[:, 0] > 5) & (gal_conf[:, 1] > 5) & (gal_conf[:, 3] > 3) \n",
    "mask &= (gas_fc[:, 0] > 0.1)"
   ]
  },
  {
   "cell_type": "code",
   "execution_count": 20,
   "metadata": {
    "collapsed": false
   },
   "outputs": [
    {
     "name": "stdout",
     "output_type": "stream",
     "text": [
      "1683144\n",
      "1939044\n"
     ]
    }
   ],
   "source": [
    "print mask.sum()\n",
    "print len(mask)"
   ]
  },
  {
   "cell_type": "code",
   "execution_count": 21,
   "metadata": {
    "collapsed": false
   },
   "outputs": [],
   "source": [
    "maskran = ran_fc[:, 0] > 0.1"
   ]
  },
  {
   "cell_type": "code",
   "execution_count": 22,
   "metadata": {
    "collapsed": false
   },
   "outputs": [],
   "source": [
    "D = sphere.points(gal_flux[mask][::1, 0], gal_flux[mask][::1, 1])\n",
    "R = sphere.points(ran[maskran][::1, 0], ran[maskran][::1, 1],\n",
    "                weights=ran_fc[maskran][::1, 0])"
   ]
  },
  {
   "cell_type": "code",
   "execution_count": 23,
   "metadata": {
    "collapsed": false
   },
   "outputs": [],
   "source": [
    "DD = correlate.paircount(D, D, abin, np=8)"
   ]
  },
  {
   "cell_type": "code",
   "execution_count": 24,
   "metadata": {
    "collapsed": false
   },
   "outputs": [],
   "source": [
    "DR = correlate.paircount(D, R, abin, np=8)"
   ]
  },
  {
   "cell_type": "code",
   "execution_count": 17,
   "metadata": {
    "collapsed": false
   },
   "outputs": [
    {
     "data": {
      "image/png": "[encoded data removed]",
      "text/plain": [
       "<matplotlib.figure.Figure at 0x7f6637daad10>"
      ]
     },
     "metadata": {},
     "output_type": "display_data"
    }
   ],
   "source": [
    "plot(abin.angular_centers, 1.0 *  (R.norm) / (D.norm) *  DD.sum1 / DR.sum1 - 1, 'x')\n",
    "xscale('log')\n",
    "yscale('log')"
   ]
  },
  {
   "cell_type": "code",
   "execution_count": 25,
   "metadata": {
    "collapsed": false
   },
   "outputs": [
    {
     "data": {
      "image/png": "[encoded data removed]",
      "text/plain": [
       "<matplotlib.figure.Figure at 0x7f6640508190>"
      ]
     },
     "metadata": {},
     "output_type": "display_data"
    }
   ],
   "source": [
    "plot(abin.angular_centers, 1.0 *  (R.norm) / (D.norm) *  DD.sum1 / DR.sum1 - 1, 'x')\n",
    "xscale('log')\n",
    "yscale('log')"
   ]
  },
  {
   "cell_type": "code",
   "execution_count": 26,
   "metadata": {
    "collapsed": false
   },
   "outputs": [
    {
     "data": {
      "image/png": "[encoded data removed]",
      "text/plain": [
       "<matplotlib.figure.Figure at 0x7f6640ff16d0>"
      ]
     },
     "metadata": {},
     "output_type": "display_data"
    }
   ],
   "source": [
    "plot(DD.sum1)\n",
    "plot(DR.sum1 * R.norm / D.norm)\n",
    "yscale('log')"
   ]
  },
  {
   "cell_type": "code",
   "execution_count": null,
   "metadata": {
    "collapsed": true
   },
   "outputs": [],
   "source": []
  }
 ],
 "metadata": {
  "kernelspec": {
   "display_name": "Python 2",
   "language": "python",
   "name": "python2"
  },
  "language_info": {
   "codemirror_mode": {
    "name": "ipython",
    "version": 2
   },
   "file_extension": ".py",
   "mimetype": "text/x-python",
   "name": "python",
   "nbconvert_exporter": "python",
   "pygments_lexer": "ipython2",
   "version": "2.7.11"
  }
 },
 "nbformat": 4,
 "nbformat_minor": 0
}
