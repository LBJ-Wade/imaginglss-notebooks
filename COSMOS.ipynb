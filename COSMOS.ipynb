{
 "cells": [
  {
   "cell_type": "markdown",
   "metadata": {},
   "source": [
    "COSMOS is a deep, wide area, multi-wavelength survey aimed at measuring the evolution of galaxies on scales from a few Kpc to 10's of Mpc.\n",
    "\n",
    "The COSMOS survey is centered at (J2000):\n",
    "RA +150.11916667 (10:00:28.600)\n",
    "DEC +2.20583333 (+02:12:21.00)"
   ]
  },
  {
   "cell_type": "code",
   "execution_count": 2,
   "metadata": {
    "collapsed": false
   },
   "outputs": [
    {
     "name": "stdout",
     "output_type": "stream",
     "text": [
      "Populating the interactive namespace from numpy and matplotlib\n"
     ]
    }
   ],
   "source": [
    "%pylab inline"
   ]
  },
  {
   "cell_type": "code",
   "execution_count": 3,
   "metadata": {
    "collapsed": false
   },
   "outputs": [],
   "source": [
    "import imaginglss\n",
    "decals = imaginglss.DECALS('/project/projectdirs/m779/imaginglss/dr2.conf.py')"
   ]
  },
  {
   "cell_type": "code",
   "execution_count": 4,
   "metadata": {
    "collapsed": true
   },
   "outputs": [],
   "source": [
    "dr = decals.datarelease"
   ]
  },
  {
   "cell_type": "code",
   "execution_count": 5,
   "metadata": {
    "collapsed": false
   },
   "outputs": [],
   "source": [
    "RA = 150.11916667\n",
    "DEC = 2.20583333\n",
    "cosmos = dr.create_footprint((RA -0.7, RA + 0.7, DEC-0.7, DEC+0.7 ))"
   ]
  },
  {
   "cell_type": "code",
   "execution_count": 6,
   "metadata": {
    "collapsed": true
   },
   "outputs": [],
   "source": [
    "cosmos_DR2 = cosmos.intersect(dr.footprint)"
   ]
  },
  {
   "cell_type": "code",
   "execution_count": 7,
   "metadata": {
    "collapsed": false
   },
   "outputs": [
    {
     "name": "stdout",
     "output_type": "stream",
     "text": [
      "Footprint: len(bricks)=42 , area=2.62287 degrees, range=FootPrintRange(ramin=149.5, ramax=151.0, decmin=1.375, decmax=3.125, area=2.6228742650495449)\n"
     ]
    }
   ],
   "source": [
    "print cosmos_DR2"
   ]
  },
  {
   "cell_type": "code",
   "execution_count": 8,
   "metadata": {
    "collapsed": false
   },
   "outputs": [
    {
     "name": "stdout",
     "output_type": "stream",
     "text": [
      "Footprint: len(bricks)=42 , area=2.62287 degrees, range=FootPrintRange(ramin=149.5, ramax=151.0, decmin=1.375, decmax=3.125, area=2.6228742650495449)\n"
     ]
    }
   ],
   "source": [
    "print cosmos"
   ]
  },
  {
   "cell_type": "code",
   "execution_count": 9,
   "metadata": {
    "collapsed": false
   },
   "outputs": [],
   "source": [
    "cat = dr.create_catalogue(cosmos_DR2)"
   ]
  },
  {
   "cell_type": "code",
   "execution_count": 10,
   "metadata": {
    "collapsed": true
   },
   "outputs": [],
   "source": [
    "from imaginglss.analysis import targetselection\n",
    "from imaginglss.analysis import completeness"
   ]
  },
  {
   "cell_type": "code",
   "execution_count": 11,
   "metadata": {
    "collapsed": true
   },
   "outputs": [],
   "source": [
    "sigma = {'r':5, 'g':5, 'z': 5}"
   ]
  },
  {
   "cell_type": "code",
   "execution_count": 12,
   "metadata": {
    "collapsed": false
   },
   "outputs": [
    {
     "name": "stderr",
     "output_type": "stream",
     "text": [
      "/global/project/projectdirs/m779/yfeng1/source/imaginglss/imaginglss/utils/npyquery.py:436: RuntimeWarning: invalid value encountered in power\n",
      "  r = node.function(*ops)\n",
      "/global/project/projectdirs/m779/yfeng1/source/imaginglss/imaginglss/utils/npyquery.py:436: RuntimeWarning: invalid value encountered in greater\n",
      "  r = node.function(*ops)\n"
     ]
    }
   ],
   "source": [
    "LRG = completeness.LRG(sigma)(targetselection.LRG(cat))"
   ]
  },
  {
   "cell_type": "code",
   "execution_count": 13,
   "metadata": {
    "collapsed": false
   },
   "outputs": [
    {
     "data": {
      "text/plain": [
       "[<matplotlib.lines.Line2D at 0x7f2f19fedf10>]"
      ]
     },
     "execution_count": 13,
     "metadata": {},
     "output_type": "execute_result"
    },
    {
     "data": {
      "image/png": "[encoded data removed]",
      "text/plain": [
       "<matplotlib.figure.Figure at 0x7f2f172447d0>"
      ]
     },
     "metadata": {},
     "output_type": "display_data"
    }
   ],
   "source": [
    "plot(LRG['RA'], LRG['DEC'], ', ')"
   ]
  },
  {
   "cell_type": "code",
   "execution_count": null,
   "metadata": {
    "collapsed": true
   },
   "outputs": [],
   "source": []
  }
 ],
 "metadata": {
  "kernelspec": {
   "display_name": "Python 2",
   "language": "python",
   "name": "python2"
  },
  "language_info": {
   "codemirror_mode": {
    "name": "ipython",
    "version": 2
   },
   "file_extension": ".py",
   "mimetype": "text/x-python",
   "name": "python",
   "nbconvert_exporter": "python",
   "pygments_lexer": "ipython2",
   "version": "2.7.10"
  }
 },
 "nbformat": 4,
 "nbformat_minor": 0
}
