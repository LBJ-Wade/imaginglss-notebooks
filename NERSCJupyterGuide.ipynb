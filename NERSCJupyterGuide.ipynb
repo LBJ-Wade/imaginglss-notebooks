{
 "cells": [
  {
   "cell_type": "code",
   "execution_count": 12,
   "metadata": {
    "collapsed": false
   },
   "outputs": [
    {
     "name": "stdout",
     "output_type": "stream",
     "text": [
      "Uninstalling imaginglss-0.1.0rc0:\n",
      "  Successfully uninstalled imaginglss-0.1.0rc0\n"
     ]
    },
    {
     "name": "stderr",
     "output_type": "stream",
     "text": [
      "You are using pip version 7.0.3, however version 8.0.2 is available.\n",
      "You should consider upgrading via the 'pip install --upgrade pip' command.\n"
     ]
    }
   ],
   "source": [
    "%%bash\n",
    "\n",
    "rm -rf imaginglss\n",
    "/anaconda/bin/pip uninstall -y imaginglss"
   ]
  },
  {
   "cell_type": "markdown",
   "metadata": {},
   "source": [
    "## First time install"
   ]
  },
  {
   "cell_type": "code",
   "execution_count": 13,
   "metadata": {
    "collapsed": false
   },
   "outputs": [
    {
     "name": "stdout",
     "output_type": "stream",
     "text": [
      "Initialized empty Git repository in /global/project/projectdirs/m779/yfeng1/source/imaginglss/imaginglss-notebooks/imaginglss/.git/\n"
     ]
    },
    {
     "name": "stderr",
     "output_type": "stream",
     "text": [
      "You are using pip version 7.0.3, however version 8.0.2 is available.\n",
      "You should consider upgrading via the 'pip install --upgrade pip' command.\n",
      "--user should either be a path to a local project or a VCS url beginning with svn+, git+, hg+, or bzr+\n"
     ]
    }
   ],
   "source": [
    "%%bash \n",
    "\n",
    "git clone https://github.com/desihub/imaginglss\n",
    "cd imaginglss\n",
    "\n",
    "/anaconda/bin/pip install -e --user --upgrade --no-deps .\n",
    "    "
   ]
  },
  {
   "cell_type": "markdown",
   "metadata": {},
   "source": [
    "## Update"
   ]
  },
  {
   "cell_type": "code",
   "execution_count": 14,
   "metadata": {
    "collapsed": false
   },
   "outputs": [
    {
     "name": "stdout",
     "output_type": "stream",
     "text": [
      "No local changes to save\n",
      "Already up-to-date.\n"
     ]
    },
    {
     "name": "stderr",
     "output_type": "stream",
     "text": [
      "You are using pip version 7.0.3, however version 8.0.2 is available.\n",
      "You should consider upgrading via the 'pip install --upgrade pip' command.\n",
      "--user should either be a path to a local project or a VCS url beginning with svn+, git+, hg+, or bzr+\n"
     ]
    }
   ],
   "source": [
    "%%bash \n",
    "\n",
    "cd imaginglss\n",
    "\n",
    "git stash\n",
    "git pull \n",
    "/anaconda/bin/pip install -e --user --upgrade --no-deps .\n",
    "    "
   ]
  },
  {
   "cell_type": "code",
   "execution_count": 15,
   "metadata": {
    "collapsed": false
   },
   "outputs": [
    {
     "name": "stdout",
     "output_type": "stream",
     "text": [
      "<module 'imaginglss' from '/global/project/projectdirs/m779/yfeng1/source/imaginglss/imaginglss/__init__.pyc'>\n"
     ]
    }
   ],
   "source": [
    "import imaginglss\n",
    "print imaginglss"
   ]
  },
  {
   "cell_type": "code",
   "execution_count": null,
   "metadata": {
    "collapsed": true
   },
   "outputs": [],
   "source": []
  }
 ],
 "metadata": {
  "kernelspec": {
   "display_name": "Python 2",
   "language": "python",
   "name": "python2"
  },
  "language_info": {
   "codemirror_mode": {
    "name": "ipython",
    "version": 2
   },
   "file_extension": ".py",
   "mimetype": "text/x-python",
   "name": "python",
   "nbconvert_exporter": "python",
   "pygments_lexer": "ipython2",
   "version": "2.7.10"
  }
 },
 "nbformat": 4,
 "nbformat_minor": 0
}
