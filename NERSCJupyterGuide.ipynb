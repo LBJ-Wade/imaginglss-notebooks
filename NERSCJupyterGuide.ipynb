{
 "cells": [
  {
   "cell_type": "markdown",
   "metadata": {},
   "source": [
    "# ImagingLSS on NERSC Jupyter Portal\n",
    "\n",
    "This example will guide you setup imaginglss at NERSC with Jupyter.\n",
    "\n",
    "https://jupyter.nersc.gov\n",
    "\n",
    "This guide will not work on Cori or Edison. \n",
    "Refer to the documentation for using imaginglss in a Batch environment."
   ]
  },
  {
   "cell_type": "markdown",
   "metadata": {},
   "source": [
    "## First time install\n",
    "\n",
    "This will checkout the imaginglss source code to ~/imaginglss\n",
    "\n",
    "If you'd like to put the code some other places, change the path."
   ]
  },
  {
   "cell_type": "code",
   "execution_count": 2,
   "metadata": {
    "collapsed": false
   },
   "outputs": [
    {
     "name": "stdout",
     "output_type": "stream",
     "text": [
      "Initialized empty Git repository in /global/project/projectdirs/m779/yfeng1/source/imaginglss/imaginglss-notebooks/imaginglss/.git/\n",
      "Obtaining file:///global/project/projectdirs/m779/yfeng1/source/imaginglss/imaginglss-notebooks/imaginglss\n",
      "Requirement already satisfied (use --upgrade to upgrade): numpy in /anaconda/lib/python2.7/site-packages (from imaginglss==0.1.0rc0)\n",
      "Installing collected packages: imaginglss\n",
      "  Running setup.py develop for imaginglss\n",
      "Successfully installed imaginglss-0.1.0rc0\n"
     ]
    },
    {
     "name": "stderr",
     "output_type": "stream",
     "text": [
      "You are using pip version 7.0.3, however version 8.0.2 is available.\n",
      "You should consider upgrading via the 'pip install --upgrade pip' command.\n"
     ]
    }
   ],
   "source": [
    "%%bash \n",
    "\n",
    "cd ~\n",
    "\n",
    "git clone https://github.com/desihub/imaginglss\n",
    "cd imaginglss\n",
    "\n",
    "/anaconda/bin/pip install --user -e .\n",
    "    "
   ]
  },
  {
   "cell_type": "markdown",
   "metadata": {},
   "source": [
    "## Update\n",
    "\n",
    "This will abandon all of your local changes!\n"
   ]
  },
  {
   "cell_type": "code",
   "execution_count": 3,
   "metadata": {
    "collapsed": false
   },
   "outputs": [
    {
     "name": "stdout",
     "output_type": "stream",
     "text": [
      "No local changes to save\n",
      "Already up-to-date.\n"
     ]
    },
    {
     "name": "stderr",
     "output_type": "stream",
     "text": [
      "You are using pip version 7.0.3, however version 8.0.2 is available.\n",
      "You should consider upgrading via the 'pip install --upgrade pip' command.\n",
      "--user should either be a path to a local project or a VCS url beginning with svn+, git+, hg+, or bzr+\n"
     ]
    }
   ],
   "source": [
    "%%bash \n",
    "\n",
    "cd ~/imaginglss\n",
    "\n",
    "git stash\n",
    "git pull \n"
   ]
  },
  {
   "cell_type": "markdown",
   "metadata": {},
   "source": [
    "## Head start for Developers\n",
    "\n",
    "For developers, it is preferable to do updates with `git pull` \n",
    "from a true terminal window, or follow other standard git practice of\n",
    "merging in upstream changes. (e.g. `git fetch`)\n",
    "\n",
    "The main development of imaginglss is done this way:\n",
    "\n",
    " - One terminal window connected to NERSC\n",
    " - One notebook connected to http://jupyter.nersc.gov\n",
    " - Write up some ideas in the notebook\n",
    " - `git checkout -b mybigidea`\n",
    " - implement it from the terminal window\n",
    " - Reload the notebook kernel and test the implementation\n",
    " - If it works, `git add`, `git commit`, `git push`, and file a Pull Request.\n",
    " - If it does not work, go to 'implement' step.\n",
    " - Wait till the feature is merged, \n",
    " - `git checkout master`; `git branch -d mybigidea`.\n",
    " "
   ]
  },
  {
   "cell_type": "markdown",
   "metadata": {},
   "source": [
    "## Reinstall\n",
    "\n",
    "Usually not needed, but if things go severely wrong, try this."
   ]
  },
  {
   "cell_type": "code",
   "execution_count": null,
   "metadata": {
    "collapsed": true
   },
   "outputs": [],
   "source": [
    "%%bash\n",
    "\n",
    "cd ~/imaginglss\n",
    "/anaconda/bin/pip uninstall imaginglss\n",
    "/anaconda/bin/pip install --user -e .\n"
   ]
  },
  {
   "cell_type": "code",
   "execution_count": 4,
   "metadata": {
    "collapsed": false
   },
   "outputs": [
    {
     "name": "stdout",
     "output_type": "stream",
     "text": [
      "<module 'imaginglss' from '/global/project/projectdirs/m779/yfeng1/source/imaginglss/imaginglss-notebooks/imaginglss/imaginglss/__init__.py'>\n"
     ]
    }
   ],
   "source": [
    "import imaginglss\n",
    "print imaginglss"
   ]
  },
  {
   "cell_type": "code",
   "execution_count": 5,
   "metadata": {
    "collapsed": false
   },
   "outputs": [],
   "source": [
    "decals = imaginglss.DECALS('/global/project/projectdirs/m779/imaginglss/dr2.conf.py')"
   ]
  },
  {
   "cell_type": "code",
   "execution_count": null,
   "metadata": {
    "collapsed": true
   },
   "outputs": [],
   "source": []
  }
 ],
 "metadata": {
  "kernelspec": {
   "display_name": "Python 2",
   "language": "python",
   "name": "python2"
  },
  "language_info": {
   "codemirror_mode": {
    "name": "ipython",
    "version": 2
   },
   "file_extension": ".py",
   "mimetype": "text/x-python",
   "name": "python",
   "nbconvert_exporter": "python",
   "pygments_lexer": "ipython2",
   "version": "2.7.10"
  }
 },
 "nbformat": 4,
 "nbformat_minor": 0
}
