{
 "cells": [
  {
   "cell_type": "code",
   "execution_count": 1,
   "metadata": {
    "collapsed": false
   },
   "outputs": [
    {
     "name": "stderr",
     "output_type": "stream",
     "text": [
      "You are using pip version 7.0.3, however version 8.0.2 is available.\n",
      "You should consider upgrading via the 'pip install --upgrade pip' command.\n",
      "Cannot uninstall requirement imaginglss, not installed\n"
     ]
    }
   ],
   "source": [
    "%%bash\n",
    "\n",
    "rm -rf imaginglss\n",
    "/anaconda/bin/pip uninstall -y imaginglss"
   ]
  },
  {
   "cell_type": "markdown",
   "metadata": {},
   "source": [
    "## First time install"
   ]
  },
  {
   "cell_type": "code",
   "execution_count": 2,
   "metadata": {
    "collapsed": false
   },
   "outputs": [
    {
     "name": "stdout",
     "output_type": "stream",
     "text": [
      "Initialized empty Git repository in /global/project/projectdirs/m779/yfeng1/source/imaginglss/imaginglss-notebooks/imaginglss/.git/\n",
      "Obtaining file:///global/project/projectdirs/m779/yfeng1/source/imaginglss/imaginglss-notebooks/imaginglss\n",
      "Requirement already satisfied (use --upgrade to upgrade): numpy in /anaconda/lib/python2.7/site-packages (from imaginglss==0.1.0rc0)\n",
      "Installing collected packages: imaginglss\n",
      "  Running setup.py develop for imaginglss\n",
      "Successfully installed imaginglss-0.1.0rc0\n"
     ]
    },
    {
     "name": "stderr",
     "output_type": "stream",
     "text": [
      "You are using pip version 7.0.3, however version 8.0.2 is available.\n",
      "You should consider upgrading via the 'pip install --upgrade pip' command.\n"
     ]
    }
   ],
   "source": [
    "%%bash \n",
    "\n",
    "git clone https://github.com/desihub/imaginglss\n",
    "cd imaginglss\n",
    "\n",
    "/anaconda/bin/pip install --user -e .\n",
    "    "
   ]
  },
  {
   "cell_type": "markdown",
   "metadata": {},
   "source": [
    "## Update"
   ]
  },
  {
   "cell_type": "code",
   "execution_count": 3,
   "metadata": {
    "collapsed": false
   },
   "outputs": [
    {
     "name": "stdout",
     "output_type": "stream",
     "text": [
      "No local changes to save\n",
      "Already up-to-date.\n"
     ]
    },
    {
     "name": "stderr",
     "output_type": "stream",
     "text": [
      "You are using pip version 7.0.3, however version 8.0.2 is available.\n",
      "You should consider upgrading via the 'pip install --upgrade pip' command.\n",
      "--user should either be a path to a local project or a VCS url beginning with svn+, git+, hg+, or bzr+\n"
     ]
    }
   ],
   "source": [
    "%%bash \n",
    "\n",
    "cd imaginglss\n",
    "\n",
    "git stash\n",
    "git pull \n",
    "/anaconda/bin/pip install --user --upgrade --no-deps -e .\n",
    "    "
   ]
  },
  {
   "cell_type": "code",
   "execution_count": 4,
   "metadata": {
    "collapsed": false
   },
   "outputs": [
    {
     "name": "stdout",
     "output_type": "stream",
     "text": [
      "<module 'imaginglss' from '/global/project/projectdirs/m779/yfeng1/source/imaginglss/imaginglss-notebooks/imaginglss/imaginglss/__init__.py'>\n"
     ]
    }
   ],
   "source": [
    "import imaginglss\n",
    "print imaginglss"
   ]
  },
  {
   "cell_type": "code",
   "execution_count": 5,
   "metadata": {
    "collapsed": false
   },
   "outputs": [],
   "source": [
    "decals = imaginglss.DECALS('/global/project/projectdirs/m779/imaginglss/dr2.conf.py')"
   ]
  },
  {
   "cell_type": "code",
   "execution_count": null,
   "metadata": {
    "collapsed": true
   },
   "outputs": [],
   "source": []
  }
 ],
 "metadata": {
  "kernelspec": {
   "display_name": "Python 2",
   "language": "python",
   "name": "python2"
  },
  "language_info": {
   "codemirror_mode": {
    "name": "ipython",
    "version": 2
   },
   "file_extension": ".py",
   "mimetype": "text/x-python",
   "name": "python",
   "nbconvert_exporter": "python",
   "pygments_lexer": "ipython2",
   "version": "2.7.10"
  }
 },
 "nbformat": 4,
 "nbformat_minor": 0
}
