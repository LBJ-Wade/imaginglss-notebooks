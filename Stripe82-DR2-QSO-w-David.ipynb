{
 "cells": [
  {
   "cell_type": "markdown",
   "metadata": {},
   "source": [
    "COSMOS is a deep, wide area, multi-wavelength survey aimed at measuring the evolution of galaxies on scales from a few Kpc to 10's of Mpc.\n",
    "\n",
    "The COSMOS survey is centered at (J2000):\n",
    "RA +150.11916667 (10:00:28.600)\n",
    "DEC +2.20583333 (+02:12:21.00)"
   ]
  },
  {
   "cell_type": "code",
   "execution_count": 1,
   "metadata": {
    "collapsed": false
   },
   "outputs": [
    {
     "name": "stdout",
     "output_type": "stream",
     "text": [
      "Populating the interactive namespace from numpy and matplotlib\n"
     ]
    }
   ],
   "source": [
    "%pylab inline"
   ]
  },
  {
   "cell_type": "code",
   "execution_count": 2,
   "metadata": {
    "collapsed": false
   },
   "outputs": [],
   "source": [
    "import imaginglss\n",
    "decals = imaginglss.DECALS('/project/projectdirs/m779/imaginglss/dr2.conf.py')"
   ]
  },
  {
   "cell_type": "code",
   "execution_count": 3,
   "metadata": {
    "collapsed": true
   },
   "outputs": [],
   "source": [
    "import h5py"
   ]
  },
  {
   "cell_type": "code",
   "execution_count": 4,
   "metadata": {
    "collapsed": true
   },
   "outputs": [],
   "source": [
    "dr = decals.datarelease"
   ]
  },
  {
   "cell_type": "code",
   "execution_count": 5,
   "metadata": {
    "collapsed": false
   },
   "outputs": [],
   "source": [
    "RA = 340\n",
    "DEC = 0\n",
    "stripe82 = dr.create_footprint((320, 359.99, DEC-1.25, DEC+1.25 ))"
   ]
  },
  {
   "cell_type": "code",
   "execution_count": 6,
   "metadata": {
    "collapsed": true
   },
   "outputs": [],
   "source": [
    "stripe82_DR2 = stripe82.intersect(dr.footprint)"
   ]
  },
  {
   "cell_type": "markdown",
   "metadata": {
    "collapsed": false
   },
   "source": [
    "cat = dr.create_catalogue(stripe82_DR2)\n",
    "f = h5py.File('stripe82-DR2.hdf5')\n",
    "ds = f.create_dataset(\"Objects\", data=cat)\n",
    "f.close()\n",
    "del ds\n",
    "del f"
   ]
  },
  {
   "cell_type": "code",
   "execution_count": 7,
   "metadata": {
    "collapsed": false
   },
   "outputs": [],
   "source": [
    "f = h5py.File('stripe82-DR2.hdf5')\n",
    "cat = f['Objects'][:]"
   ]
  },
  {
   "cell_type": "code",
   "execution_count": 69,
   "metadata": {
    "collapsed": false
   },
   "outputs": [],
   "source": [
    "!rm '/project/projectdirs/m779/yfeng1/imaginglss/stripe82-DR2.fits'\n",
    "f = fitsio.FITS('/project/projectdirs/m779/yfeng1/imaginglss/stripe82-DR2.fits', 'rw')\n",
    "f.write(cat)"
   ]
  },
  {
   "cell_type": "code",
   "execution_count": 70,
   "metadata": {
    "collapsed": false
   },
   "outputs": [],
   "source": [
    "f = h5py.File('/project/projectdirs/m779/yfeng1/imaginglss/stripe82-DR2.hdf5')\n",
    "ds = f.create_dataset(\"Objects\", data=cat)\n",
    "f.close()"
   ]
  },
  {
   "cell_type": "code",
   "execution_count": 60,
   "metadata": {
    "collapsed": false
   },
   "outputs": [
    {
     "name": "stdout",
     "output_type": "stream",
     "text": [
      "[]\n"
     ]
    }
   ],
   "source": [
    "f = fitsio.FITS('/project/projectdirs/m779/yfeng1/imaginglss/stripe82-DR2.fits', 'rw')\n",
    "print f[2][:]"
   ]
  },
  {
   "cell_type": "code",
   "execution_count": 8,
   "metadata": {
    "collapsed": true
   },
   "outputs": [],
   "source": [
    "from imaginglss.model.columnnames import *"
   ]
  },
  {
   "cell_type": "code",
   "execution_count": 130,
   "metadata": {
    "collapsed": false
   },
   "outputs": [
    {
     "name": "stdout",
     "output_type": "stream",
     "text": [
      "198302\n"
     ]
    },
    {
     "data": {
      "text/plain": [
       "<matplotlib.text.Text at 0x7f1edbe31c50>"
      ]
     },
     "execution_count": 130,
     "metadata": {},
     "output_type": "execute_result"
    },
    {
     "data": {
      "image/png": "[encoded data removed]",
      "text/plain": [
       "<matplotlib.figure.Figure at 0x7f1ee5abe390>"
      ]
     },
     "metadata": {},
     "output_type": "display_data"
    }
   ],
   "source": [
    "def scope():\n",
    "    QSO = BRICK_PRIMARY != 0\n",
    "    QSO &= Max(SHAPEEXP_R,SHAPEDEV_R) < 0.5\n",
    "    #QSO &= TYPE == 'PSF '\n",
    "    QSO &= RFLUX > 10**((22.5-23.0)/2.5)\n",
    "    QSO &= RFLUX < 10**(1.0/2.5) * GFLUX\n",
    "    QSO &= ZFLUX > 10**(-0.3/2.5) * RFLUX\n",
    "    QSO &= ZFLUX < 10**(1.1/2.5) * RFLUX\n",
    "    QSO &= WFLUX * GFLUX ** 1.2 > 10**(-.4/2.5) * RFLUX ** (1+1.2)\n",
    "    QSO &= DECAM_ANYMASK[1] == 0\n",
    "    QSO &= DECAM_ANYMASK[2] == 0\n",
    "    QSO &= DECAM_ANYMASK[4] == 0\n",
    "    return QSO\n",
    "QSO = scope()\n",
    "data = QSO(cat)['RA']\n",
    "print len(data)\n",
    "_ = hist(data, range=(320, 360), bins=100, weights=ones(len(data)) / (2.5 * 0.4))\n",
    "title(\"DAVID-COLOR SHAPE\")"
   ]
  },
  {
   "cell_type": "code",
   "execution_count": 129,
   "metadata": {
    "collapsed": false
   },
   "outputs": [
    {
     "data": {
      "text/plain": [
       "<matplotlib.text.Text at 0x7f1ee27b2510>"
      ]
     },
     "execution_count": 129,
     "metadata": {},
     "output_type": "execute_result"
    },
    {
     "data": {
      "image/png": "[encoded data removed]",
      "text/plain": [
       "<matplotlib.figure.Figure at 0x7f1ee27b2050>"
      ]
     },
     "metadata": {},
     "output_type": "display_data"
    }
   ],
   "source": [
    "def scope():\n",
    "    QSO = BRICK_PRIMARY != 0\n",
    "    QSO &= TYPE == 'PSF '\n",
    "    QSO &= RFLUX > 10**((22.5-23.0)/2.5)\n",
    "    QSO &= RFLUX < 10**(1.0/2.5) * GFLUX\n",
    "    QSO &= ZFLUX > 10**(-0.3/2.5) * RFLUX\n",
    "    QSO &= ZFLUX < 10**(1.1/2.5) * RFLUX\n",
    "    QSO &= WFLUX * GFLUX ** 1.2 > 10**(-.4/2.5) * RFLUX ** (1+1.2)\n",
    "    QSO &= DECAM_ANYMASK[1] == 0\n",
    "    QSO &= DECAM_ANYMASK[2] == 0\n",
    "    QSO &= DECAM_ANYMASK[4] == 0\n",
    "    return QSO\n",
    "QSO = scope()\n",
    "data = QSO(cat)['RA']\n",
    "_ = hist(data, range=(320, 360), bins=100, weights=ones(len(data)) / (2.5 * 0.4))\n",
    "title(\"DAVID-Color PSF\")"
   ]
  },
  {
   "cell_type": "code",
   "execution_count": 49,
   "metadata": {
    "collapsed": false
   },
   "outputs": [
    {
     "data": {
      "text/plain": [
       "<matplotlib.text.Text at 0x7f1efd5d5f90>"
      ]
     },
     "execution_count": 49,
     "metadata": {},
     "output_type": "execute_result"
    },
    {
     "data": {
      "image/png": "[encoded data removed]",
      "text/plain": [
       "<matplotlib.figure.Figure at 0x7f1ef23a3b90>"
      ]
     },
     "metadata": {},
     "output_type": "display_data"
    }
   ],
   "source": [
    "def scope():\n",
    "    QSOC  = RFLUX > 10**((22.5-23.0)/2.5)\n",
    "    QSOC &= GRZFLUX < 10**((22.5-17.0)/2.5)\n",
    "    QSOC &= RFLUX < 10**(1.3/2.5) * GFLUX\n",
    "    QSOC &= ZFLUX > 10**(-0.3/2.5) * RFLUX\n",
    "    QSOC &= ZFLUX < 10**(1.1/2.5) * RFLUX\n",
    "    QSOC &= WFLUX * GFLUX > 10**(-1.0/2.5) * ZFLUX * GRZFLUX\n",
    "    QSOC &= W2FLUX > W1FLUX * 10**(-0.4 / 2.5)\n",
    "    QSOC &= SNRW1 > 4\n",
    "    QSOC &= SNRW2 > 2\n",
    "\n",
    "    QSO = BRICK_PRIMARY != 0\n",
    "    QSO &= QSOC\n",
    "    QSO &= TYPE == 'PSF '\n",
    "    return QSO\n",
    "QSO = scope()\n",
    "data = QSO(cat)['RA']\n",
    "_ = hist(data, range=(320, 360), bins=100, weights=ones(len(data)) / (2.5 * 0.4))\n",
    "title(\"FDR-Color PSF\")"
   ]
  },
  {
   "cell_type": "code",
   "execution_count": 50,
   "metadata": {
    "collapsed": false
   },
   "outputs": [
    {
     "data": {
      "text/plain": [
       "<matplotlib.text.Text at 0x7f1efd5ae190>"
      ]
     },
     "execution_count": 50,
     "metadata": {},
     "output_type": "execute_result"
    },
    {
     "data": {
      "image/png": "[encoded data removed]",
      "text/plain": [
       "<matplotlib.figure.Figure at 0x7f1efd70fad0>"
      ]
     },
     "metadata": {},
     "output_type": "display_data"
    }
   ],
   "source": [
    "def scope():\n",
    "    QSOC  = RFLUX > 10**((22.5-23.0)/2.5)\n",
    "    QSOC &= GRZFLUX < 10**((22.5-17.0)/2.5)\n",
    "    QSOC &= RFLUX < 10**(1.3/2.5) * GFLUX\n",
    "    QSOC &= ZFLUX > 10**(-0.3/2.5) * RFLUX\n",
    "    QSOC &= ZFLUX < 10**(1.1/2.5) * RFLUX\n",
    "    QSOC &= WFLUX * GFLUX > 10**(-1.0/2.5) * ZFLUX * GRZFLUX\n",
    "    QSOC &= W2FLUX > W1FLUX * 10**(-0.4 / 2.5)\n",
    "    QSOC &= SNRW1 > 4\n",
    "    QSOC &= SNRW2 > 2\n",
    "\n",
    "    QSO = BRICK_PRIMARY != 0\n",
    "    QSO &= QSOC\n",
    "    QSO &= Max(SHAPEEXP_R,SHAPEDEV_R) < 0.5\n",
    "    return QSO\n",
    "\n",
    "QSO = scope()\n",
    "data = QSO(cat)['RA']\n",
    "_ = hist(data, range=(320, 360), bins=100, weights=ones(len(data)) / (2.5 * 0.4))\n",
    "title(\"FDR-Color SHAPE\")"
   ]
  },
  {
   "cell_type": "code",
   "execution_count": 51,
   "metadata": {
    "collapsed": false
   },
   "outputs": [
    {
     "data": {
      "text/plain": [
       "<matplotlib.text.Text at 0x7f1ef124c790>"
      ]
     },
     "execution_count": 51,
     "metadata": {},
     "output_type": "execute_result"
    },
    {
     "data": {
      "image/png": "[encoded data removed]",
      "text/plain": [
       "<matplotlib.figure.Figure at 0x7f1efd40abd0>"
      ]
     },
     "metadata": {},
     "output_type": "display_data"
    }
   ],
   "source": [
    "def scope():\n",
    "    QSOC  = RFLUX > 10**((22.5-23.0)/2.5)\n",
    "    QSOC &= GRZFLUX < 10**((22.5-17.0)/2.5)\n",
    "    QSOC &= RFLUX < 10**(1.3/2.5) * GFLUX\n",
    "    QSOC &= ZFLUX > 10**(-0.3/2.5) * RFLUX\n",
    "    QSOC &= ZFLUX < 10**(1.1/2.5) * RFLUX\n",
    "    QSOC &= WFLUX * GFLUX > 10**(-1.0/2.5) * ZFLUX * GRZFLUX\n",
    "#    QSOC &= W2FLUX > W1FLUX * 10**(-0.4 / 2.5)\n",
    "#    QSOC &= SNRW1 > 4\n",
    "#    QSOC &= SNRW2 > 2\n",
    "\n",
    "    QSO = BRICK_PRIMARY != 0\n",
    "    QSO &= QSOC\n",
    "#    QSO &= Max(SHAPEEXP_R,SHAPEDEV_R) < 0.5\n",
    "    QSO &= TYPE == 'PSF '\n",
    "    return QSO\n",
    "\n",
    "QSO = scope()\n",
    "data = QSO(cat)['RA']\n",
    "_ = hist(data, range=(320, 360), bins=100, weights=ones(len(data)) / (2.5 * 0.4))\n",
    "title(\"FDR-Color no-WISE PSF\")"
   ]
  },
  {
   "cell_type": "code",
   "execution_count": 52,
   "metadata": {
    "collapsed": false
   },
   "outputs": [
    {
     "data": {
      "text/plain": [
       "<matplotlib.text.Text at 0x7f1ef0f35b10>"
      ]
     },
     "execution_count": 52,
     "metadata": {},
     "output_type": "execute_result"
    },
    {
     "data": {
      "image/png": "[encoded data removed]",
      "text/plain": [
       "<matplotlib.figure.Figure at 0x7f1ef18410d0>"
      ]
     },
     "metadata": {},
     "output_type": "display_data"
    }
   ],
   "source": [
    "def scope():\n",
    "    QSOC  = RFLUX > 10**((22.5-23.0)/2.5)\n",
    "    QSOC &= GRZFLUX < 10**((22.5-17.0)/2.5)\n",
    "    QSOC &= RFLUX < 10**(1.3/2.5) * GFLUX\n",
    "    QSOC &= ZFLUX > 10**(-0.3/2.5) * RFLUX\n",
    "    QSOC &= ZFLUX < 10**(1.1/2.5) * RFLUX\n",
    "    QSOC &= WFLUX * GFLUX > 10**(-1.0/2.5) * ZFLUX * GRZFLUX\n",
    "#    QSOC &= W2FLUX > W1FLUX * 10**(-0.4 / 2.5)\n",
    "#    QSOC &= SNRW1 > 4\n",
    "#    QSOC &= SNRW2 > 2\n",
    "\n",
    "    QSO = BRICK_PRIMARY != 0\n",
    "    QSO &= QSOC\n",
    "    QSO &= Max(SHAPEEXP_R,SHAPEDEV_R) < 0.5\n",
    "#    QSO &= TYPE == 'PSF '\n",
    "    return QSO\n",
    "\n",
    "QSO = scope()\n",
    "data = QSO(cat)['RA']\n",
    "_ = hist(data, range=(320, 360), bins=100, weights=ones(len(data)) / (2.5 * 0.4))\n",
    "title(\"FDR-Color no-WISE SHAPE\")"
   ]
  },
  {
   "cell_type": "code",
   "execution_count": 38,
   "metadata": {
    "collapsed": true
   },
   "outputs": [],
   "source": [
    "fdr_nopsf = QSO_fdr_nopsf(cat)"
   ]
  },
  {
   "cell_type": "code",
   "execution_count": 28,
   "metadata": {
    "collapsed": false
   },
   "outputs": [],
   "source": [
    "david_mine = QSO_david(cat)"
   ]
  },
  {
   "cell_type": "code",
   "execution_count": 39,
   "metadata": {
    "collapsed": false
   },
   "outputs": [
    {
     "data": {
      "image/png": "[encoded data removed]",
      "text/plain": [
       "<matplotlib.figure.Figure at 0x7f1ef208e450>"
      ]
     },
     "metadata": {},
     "output_type": "display_data"
    }
   ],
   "source": [
    "_ = hist(david_mine['RA'], range=(320, 360), bins=100, weights=ones(len(david_mine)) / (2.5 * 0.4))\n",
    "_ = hist(fdr_nopsf['RA'], range=(320, 360), bins=100, weights=ones(len(fdr_nopsf)) / (2.5 * 0.4), alpha=0.5)\n",
    "grid()\n",
    "#_ = hist(david['RA'], range=(320, 360), bins=100)"
   ]
  },
  {
   "cell_type": "code",
   "execution_count": 76,
   "metadata": {
    "collapsed": true
   },
   "outputs": [],
   "source": [
    "import fitsio\n",
    "david =  fitsio.FITS('/global/project/projectdirs/desi/target/stripe82-dr2/targets-QSO.fits', )[1][:]"
   ]
  },
  {
   "cell_type": "code",
   "execution_count": null,
   "metadata": {
    "collapsed": false
   },
   "outputs": [],
   "source": [
    "print QSO_david[5]"
   ]
  },
  {
   "cell_type": "code",
   "execution_count": 114,
   "metadata": {
    "collapsed": true
   },
   "outputs": [],
   "source": [
    "def scope():\n",
    "    QSO = BRICK_PRIMARY != 0\n",
    "    QSO &= Max(SHAPEEXP_R,SHAPEDEV_R) < 0.5\n",
    "    #QSO &= TYPE == 'PSF '\n",
    "    QSO &= RFLUX > 10**((22.5-23.0)/2.5)\n",
    "    QSO &= RFLUX < 10**(1.0/2.5) * GFLUX\n",
    "    QSO &= ZFLUX > 10**(-0.3/2.5) * RFLUX\n",
    "    QSO &= ZFLUX < 10**(1.1/2.5) * RFLUX\n",
    "    QSO &= WFLUX * GFLUX ** 1.2 > 10**(-0.4 /2.5) * RFLUX ** (1+1.2)\n",
    "    QSO &= DECAM_ANYMASK[1] == 0\n",
    "    QSO &= DECAM_ANYMASK[2] == 0\n",
    "    QSO &= DECAM_ANYMASK[4] == 0\n",
    "    return QSO\n",
    "QSO_david = scope()\n"
   ]
  },
  {
   "cell_type": "code",
   "execution_count": 115,
   "metadata": {
    "collapsed": false
   },
   "outputs": [
    {
     "name": "stdout",
     "output_type": "stream",
     "text": [
      "(134102,)\n"
     ]
    }
   ],
   "source": [
    "print QSO_david[5](david).shape"
   ]
  },
  {
   "cell_type": "code",
   "execution_count": 119,
   "metadata": {
    "collapsed": false
   },
   "outputs": [
    {
     "data": {
      "text/plain": [
       "[]"
      ]
     },
     "execution_count": 119,
     "metadata": {},
     "output_type": "execute_result"
    },
    {
     "data": {
      "image/png": "[encoded data removed]",
      "text/plain": [
       "<matplotlib.figure.Figure at 0x7f1edf39dd10>"
      ]
     },
     "metadata": {},
     "output_type": "display_data"
    }
   ],
   "source": [
    "left = QSO_david[1][0].apply(david)\n",
    "right = QSO_david[1][1].apply(david)\n",
    "plot(left / right, '. ')\n",
    "grid()\n",
    "loglog()\n"
   ]
  },
  {
   "cell_type": "code",
   "execution_count": 16,
   "metadata": {
    "collapsed": false
   },
   "outputs": [
    {
     "name": "stdout",
     "output_type": "stream",
     "text": [
      "True\n"
     ]
    }
   ],
   "source": [
    "print QSO_david.apply(david).all()"
   ]
  },
  {
   "cell_type": "code",
   "execution_count": 69,
   "metadata": {
    "collapsed": false
   },
   "outputs": [
    {
     "name": "stdout",
     "output_type": "stream",
     "text": [
      "0.0\n"
     ]
    }
   ],
   "source": [
    "print david['SHAPEEXP_R'].min()"
   ]
  },
  {
   "cell_type": "code",
   "execution_count": 32,
   "metadata": {
    "collapsed": true
   },
   "outputs": [],
   "source": [
    "mask = QSO.apply(cat)"
   ]
  },
  {
   "cell_type": "code",
   "execution_count": 36,
   "metadata": {
    "collapsed": true
   },
   "outputs": [],
   "source": [
    "mask &= abs(cat['DEC']) < 1.0"
   ]
  },
  {
   "cell_type": "code",
   "execution_count": 37,
   "metadata": {
    "collapsed": false
   },
   "outputs": [
    {
     "name": "stdout",
     "output_type": "stream",
     "text": [
      "26426\n"
     ]
    }
   ],
   "source": [
    "print mask.sum()\n"
   ]
  },
  {
   "cell_type": "code",
   "execution_count": 44,
   "metadata": {
    "collapsed": false
   },
   "outputs": [
    {
     "data": {
      "image/png": "[encoded data removed]",
      "text/plain": [
       "<matplotlib.figure.Figure at 0x7faeafe1b450>"
      ]
     },
     "metadata": {},
     "output_type": "display_data"
    }
   ],
   "source": [
    "_ = hist(cat['RA'][mask_david], bins=100, range=(320, 360))"
   ]
  },
  {
   "cell_type": "code",
   "execution_count": 83,
   "metadata": {
    "collapsed": false
   },
   "outputs": [
    {
     "data": {
      "image/png": "[encoded data removed]",
      "text/plain": [
       "<matplotlib.figure.Figure at 0x7faeafef3a50>"
      ]
     },
     "metadata": {},
     "output_type": "display_data"
    }
   ],
   "source": [
    "_ = hist(cat['RA'][mask], bins=100, range=(320, 360))"
   ]
  },
  {
   "cell_type": "code",
   "execution_count": 75,
   "metadata": {
    "collapsed": false
   },
   "outputs": [
    {
     "data": {
      "text/plain": [
       "<matplotlib.text.Text at 0x7f1edf23e610>"
      ]
     },
     "execution_count": 75,
     "metadata": {},
     "output_type": "execute_result"
    },
    {
     "data": {
      "image/png": "[encoded data removed]",
      "text/plain": [
       "<matplotlib.figure.Figure at 0x7f1edc004d10>"
      ]
     },
     "metadata": {},
     "output_type": "display_data"
    }
   ],
   "source": [
    "PSFMASK = cat['TYPE'] == 'PSF '\n",
    "_ = hist(cat['RA'][PSFMASK], bins=100, range=(320, 360), weights=ones(PSFMASK.sum()) / (2.5 * 0.4))\n",
    "title(\"TYPE == PSF\")"
   ]
  },
  {
   "cell_type": "code",
   "execution_count": null,
   "metadata": {
    "collapsed": true
   },
   "outputs": [],
   "source": []
  }
 ],
 "metadata": {
  "kernelspec": {
   "display_name": "Python 2",
   "language": "python",
   "name": "python2"
  },
  "language_info": {
   "codemirror_mode": {
    "name": "ipython",
    "version": 2
   },
   "file_extension": ".py",
   "mimetype": "text/x-python",
   "name": "python",
   "nbconvert_exporter": "python",
   "pygments_lexer": "ipython2",
   "version": "2.7.11"
  }
 },
 "nbformat": 4,
 "nbformat_minor": 0
}
