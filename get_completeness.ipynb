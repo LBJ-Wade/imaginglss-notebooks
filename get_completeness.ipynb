{
 "cells": [
  {
   "cell_type": "code",
   "execution_count": 66,
   "metadata": {
    "collapsed": false
   },
   "outputs": [
    {
     "name": "stdout",
     "output_type": "stream",
     "text": [
      "Populating the interactive namespace from numpy and matplotlib\n"
     ]
    }
   ],
   "source": [
    "%pylab inline"
   ]
  },
  {
   "cell_type": "code",
   "execution_count": 67,
   "metadata": {
    "collapsed": false
   },
   "outputs": [
    {
     "name": "stdout",
     "output_type": "stream",
     "text": [
      "decals_root = '/global/project/projectdirs/cosmo/data/legacysurvey/dr2'\r\n",
      "decals_cache = '/global/project/projectdirs/m779/imaginglss/cache'\r\n",
      "decals_release = \"DR2\"\r\n",
      "tycho_dir = os.path.abspath(os.path.join(__path__, 'tycho.fit'))\r\n",
      "dust_dir = os.path.abspath(os.path.join(__path__, 'SFD98')) \r\n"
     ]
    }
   ],
   "source": [
    "import sys; sys.path.insert(0, '/global/homes/e/elliek/imaginglss/imaginglss')\n",
    "import sys; sys.path.insert(0, '/global/homes/e/elliek/imaginglss/fitsio')\n",
    "import imaginglss\n",
    "CONF = '/global/project/projectdirs/m779/imaginglss/dr2.conf.py'\n",
    "!cat $CONF\n",
    "decals = imaginglss.DECALS(CONF)\n",
    "DR = decals.datarelease\n",
    "CAT = DR.catalogue\n",
    "\n",
    "import sys; sys.path.insert(0, '/global/homes/e/elliek/kdcount')\n",
    "from kdcount import KDTree, KDAttr\n",
    "\n",
    "import numpy\n",
    "from numpy.testing import assert_equal, run_module_suite\n",
    "from kdcount.utils import constant_array\n",
    "\n",
    "from imaginglss.model.catalogue import C"
   ]
  },
  {
   "cell_type": "code",
   "execution_count": 68,
   "metadata": {
    "collapsed": true
   },
   "outputs": [],
   "source": [
    "def get_completeness(obj_type):\n",
    "        \n",
    "    # Get fluxes from catalog\n",
    "    pathname = '/global/homes/e/elliek/imaginglss/imaginglss/nersc/'\n",
    "    filename = pathname + obj_type + '.txt'\n",
    "    gflux, rflux, zflux, comp = numpy.loadtxt(filename, usecols=(4,5,7,15), unpack=True)\n",
    "    colors = numpy.concatenate([gflux.reshape(-1, 1), rflux.reshape(-1,1), zflux.reshape(-1, 1)], axis=-1)\n",
    "    # We just want the 100% complete part to build our estimator\n",
    "    colors = colors[comp == 1]\n",
    "    \n",
    "    ## Later, the (ra,dec,depths) will be fed directly in but for now...\n",
    "    ra, dec = numpy.loadtxt(filename, usecols=(0,1), unpack=True)\n",
    "    gdepth, rdepth, zdepth = numpy.loadtxt(filename, usecols=(10,11,13), unpack=True)\n",
    "    ra = ra[comp == 0]\n",
    "    dec = dec[comp == 0]\n",
    "    gdepth = gdepth[comp == 0]\n",
    "    rdepth = rdepth[comp == 0]\n",
    "    zdepth = zdepth[comp == 0]\n",
    "    gdepth = 5.0 * gdepth\n",
    "    rdepth = 5.0 * rdepth\n",
    "    zdepth = 3.0 * zdepth\n",
    "    band_depths = numpy.concatenate([gdepth.reshape(-1, 1), rdepth.reshape(-1,1), zdepth.reshape(-1, 1)], axis=-1)\n",
    "\n",
    "    # Select bands depending on object type\n",
    "    # 0,1,2 = g,r,z\n",
    "    if obj_type == 'LRG':\n",
    "        mybands = [1, 2]\n",
    "    elif obj_type == 'ELG':\n",
    "        mybands = [0, 1, 2]\n",
    "    elif obj_type == 'QSO':\n",
    "        mybands = [0, 1]\n",
    "    else:\n",
    "        print 'Unknown object. Options: LRG, ELG, QSO. --CHANGE THIS TO ACTUALLY THROW EXCEPTION LATER.'\n",
    "    # Calculate min/max in each band\n",
    "    npts = len(ra)\n",
    "    band_min = numpy.zeros((npts,3)) - numpy.inf\n",
    "    band_max = numpy.zeros((npts,3)) + numpy.inf\n",
    "    for band in mybands:\n",
    "        band_min[:,band] = numpy.min(colors[:,band])\n",
    "    # Generate tree\n",
    "    tree = KDTree(colors[:,mybands])\n",
    "    root = tree.root\n",
    "    # Ensure fcomplete does not exceed 1 where depth is more than sufficient\n",
    "    band_depths[band_depths < band_min] = band_min[band_depths < band_min]\n",
    "    # Search KDTree and calculate fcomplete\n",
    "    seen = root.integrate((band_depths[:,mybands]),(band_max[:,mybands]))\n",
    "    total = root.integrate((band_min[:,mybands]),(band_max[:,mybands]))\n",
    "    # Calculate completeness fraction\n",
    "    fcomplete = seen*1.0 / total*1.0\n",
    "    \n",
    "    # Write to output.\n",
    "    myoutput = numpy.concatenate([ra.reshape(-1, 1), dec.reshape(-1, 1), fcomplete.reshape(-1, 1)], axis=-1)\n",
    "    output_name = obj_type+'_completeness.txt'\n",
    "    numpy.savetxt(output_name, myoutput) "
   ]
  },
  {
   "cell_type": "code",
   "execution_count": null,
   "metadata": {
    "collapsed": false
   },
   "outputs": [],
   "source": [
    "get_completeness('LRG')"
   ]
  },
  {
   "cell_type": "code",
   "execution_count": 69,
   "metadata": {
    "collapsed": true
   },
   "outputs": [],
   "source": [
    "get_completeness('ELG')"
   ]
  },
  {
   "cell_type": "code",
   "execution_count": 65,
   "metadata": {
    "collapsed": true
   },
   "outputs": [],
   "source": [
    "get_completeness('QSO')"
   ]
  }
 ],
 "metadata": {
  "kernelspec": {
   "display_name": "Python 2",
   "language": "python",
   "name": "python2"
  },
  "language_info": {
   "codemirror_mode": {
    "name": "ipython",
    "version": 2
   },
   "file_extension": ".py",
   "mimetype": "text/x-python",
   "name": "python",
   "nbconvert_exporter": "python",
   "pygments_lexer": "ipython2",
   "version": "2.7.10"
  }
 },
 "nbformat": 4,
 "nbformat_minor": 0
}
